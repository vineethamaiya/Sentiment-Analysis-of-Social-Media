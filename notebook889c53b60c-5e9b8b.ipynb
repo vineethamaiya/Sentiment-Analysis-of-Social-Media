{
 "cells": [
  {
   "cell_type": "code",
   "execution_count": 1,
   "metadata": {
    "_cell_guid": "6c53202d-5c34-4859-e7e9-8ef5c7068287",
    "_uuid": "717bb968c36b9325c7d4cae5724a3672e49ff243",
    "execution": {
     "iopub.execute_input": "2023-12-04T16:14:50.765578Z",
     "iopub.status.busy": "2023-12-04T16:14:50.765239Z",
     "iopub.status.idle": "2023-12-04T16:14:50.778521Z",
     "shell.execute_reply": "2023-12-04T16:14:50.777945Z",
     "shell.execute_reply.started": "2023-12-04T16:14:50.765522Z"
    }
   },
   "outputs": [
    {
     "name": "stderr",
     "output_type": "stream",
     "text": [
      "Using TensorFlow backend.\n"
     ]
    }
   ],
   "source": [
    "# This Python 3 environment comes with many helpful analytics libraries installed\n",
    "# It is defined by the kaggle/python docker image: https://github.com/kaggle/docker-python\n",
    "# For example, here's several helpful packages to load in \n",
    "\n",
    "import numpy as np # linear algebra\n",
    "import pandas as pd # data processing, CSV file I/O (e.g. pd.read_csv)\n",
    "\n",
    "from sklearn.feature_extraction.text import CountVectorizer\n",
    "from keras.preprocessing.text import Tokenizer\n",
    "from keras.preprocessing.sequence import pad_sequences\n",
    "from keras.models import Sequential\n",
    "from keras.layers import Dense, Embedding, LSTM, SpatialDropout1D\n",
    "from sklearn.model_selection import train_test_split\n",
    "from keras.utils.np_utils import to_categorical\n",
    "import re\n",
    "\n",
    "# Input data files are available in the \"../input/\" directory.\n",
    "# For example, running this (by clicking run or pressing Shift+Enter) will list the files in the input directory"
   ]
  },
  {
   "cell_type": "code",
   "execution_count": 2,
   "metadata": {
    "_cell_guid": "89c8c923-c0bf-7b35-9ab8-e63f00b74e5a",
    "_uuid": "d2bc3bbd2ea3961c49e6673145a0a7226c160e58",
    "execution": {
     "iopub.execute_input": "2023-12-04T16:14:50.779465Z",
     "iopub.status.busy": "2023-12-04T16:14:50.779256Z",
     "iopub.status.idle": "2023-12-04T16:14:50.889786Z",
     "shell.execute_reply": "2023-12-04T16:14:50.889178Z",
     "shell.execute_reply.started": "2023-12-04T16:14:50.779407Z"
    }
   },
   "outputs": [],
   "source": [
    "data = pd.read_csv('/kaggle/input/first-gop-debate-twitter-sentiment/Sentiment.csv')"
   ]
  },
  {
   "cell_type": "code",
   "execution_count": 3,
   "metadata": {
    "execution": {
     "iopub.execute_input": "2023-12-04T16:14:50.890958Z",
     "iopub.status.busy": "2023-12-04T16:14:50.890691Z",
     "iopub.status.idle": "2023-12-04T16:14:50.896068Z",
     "shell.execute_reply": "2023-12-04T16:14:50.895373Z",
     "shell.execute_reply.started": "2023-12-04T16:14:50.890886Z"
    }
   },
   "outputs": [],
   "source": [
    "data = data[['sentiment', 'text']]"
   ]
  },
  {
   "cell_type": "code",
   "execution_count": 4,
   "metadata": {
    "execution": {
     "iopub.execute_input": "2023-12-04T16:14:50.897154Z",
     "iopub.status.busy": "2023-12-04T16:14:50.896901Z",
     "iopub.status.idle": "2023-12-04T16:14:50.914754Z",
     "shell.execute_reply": "2023-12-04T16:14:50.914073Z",
     "shell.execute_reply.started": "2023-12-04T16:14:50.897105Z"
    }
   },
   "outputs": [
    {
     "data": {
      "text/html": [
       "<div>\n",
       "<style scoped>\n",
       "    .dataframe tbody tr th:only-of-type {\n",
       "        vertical-align: middle;\n",
       "    }\n",
       "\n",
       "    .dataframe tbody tr th {\n",
       "        vertical-align: top;\n",
       "    }\n",
       "\n",
       "    .dataframe thead th {\n",
       "        text-align: right;\n",
       "    }\n",
       "</style>\n",
       "<table border=\"1\" class=\"dataframe\">\n",
       "  <thead>\n",
       "    <tr style=\"text-align: right;\">\n",
       "      <th></th>\n",
       "      <th>sentiment</th>\n",
       "      <th>text</th>\n",
       "    </tr>\n",
       "  </thead>\n",
       "  <tbody>\n",
       "    <tr>\n",
       "      <th>0</th>\n",
       "      <td>Neutral</td>\n",
       "      <td>RT @NancyLeeGrahn: How did everyone feel about...</td>\n",
       "    </tr>\n",
       "    <tr>\n",
       "      <th>1</th>\n",
       "      <td>Positive</td>\n",
       "      <td>RT @ScottWalker: Didn't catch the full #GOPdeb...</td>\n",
       "    </tr>\n",
       "    <tr>\n",
       "      <th>2</th>\n",
       "      <td>Neutral</td>\n",
       "      <td>RT @TJMShow: No mention of Tamir Rice and the ...</td>\n",
       "    </tr>\n",
       "    <tr>\n",
       "      <th>3</th>\n",
       "      <td>Positive</td>\n",
       "      <td>RT @RobGeorge: That Carly Fiorina is trending ...</td>\n",
       "    </tr>\n",
       "    <tr>\n",
       "      <th>4</th>\n",
       "      <td>Positive</td>\n",
       "      <td>RT @DanScavino: #GOPDebate w/ @realDonaldTrump...</td>\n",
       "    </tr>\n",
       "  </tbody>\n",
       "</table>\n",
       "</div>"
      ],
      "text/plain": [
       "  ...\n",
       "0 ...\n",
       "1 ...\n",
       "2 ...\n",
       "3 ...\n",
       "4 ...\n",
       "\n",
       "[5 rows x 2 columns]"
      ]
     },
     "execution_count": 4,
     "metadata": {},
     "output_type": "execute_result"
    }
   ],
   "source": [
    "data.head()"
   ]
  },
  {
   "cell_type": "code",
   "execution_count": 5,
   "metadata": {
    "_cell_guid": "43632d2d-6160-12ce-48b0-e5eb1c207076",
    "_uuid": "d0f8b4542106a279f7398db7285ae5e370b2e813",
    "execution": {
     "iopub.execute_input": "2023-12-04T16:14:50.915830Z",
     "iopub.status.busy": "2023-12-04T16:14:50.915640Z",
     "iopub.status.idle": "2023-12-04T16:14:52.561752Z",
     "shell.execute_reply": "2023-12-04T16:14:52.561159Z",
     "shell.execute_reply.started": "2023-12-04T16:14:50.915791Z"
    }
   },
   "outputs": [
    {
     "name": "stdout",
     "output_type": "stream",
     "text": [
      "4472\n",
      "16986\n"
     ]
    }
   ],
   "source": [
    "data = data[data.sentiment != \"Neutral\"]\n",
    "data['text'] = data['text'].apply(lambda x: x.lower())\n",
    "data['text'] = data['text'].apply((lambda x: re.sub('[^a-zA-z0-9\\s]','',x)))\n",
    "\n",
    "print(data[ data['sentiment'] == 'Positive'].size) #Positive\n",
    "print(data[ data['sentiment'] == 'Negative'].size) #Negative\n",
    "\n",
    "for idx,row in data.iterrows():\n",
    "    row[0] = row[0].replace('rt',' ')\n",
    "    \n",
    "max_fatures = 2000\n",
    "tokenizer = Tokenizer(num_words=max_fatures, split=' ')\n",
    "tokenizer.fit_on_texts(data['text'].values)\n",
    "X = tokenizer.texts_to_sequences(data['text'].values)\n",
    "X = pad_sequences(X)"
   ]
  },
  {
   "cell_type": "code",
   "execution_count": 6,
   "metadata": {
    "_cell_guid": "1ba3cf60-a83c-9c21-05e0-b14303027e93",
    "_uuid": "05cb9ef0ec9e0a4067e3ab7c1bda7b2c1211feda",
    "execution": {
     "iopub.execute_input": "2023-12-04T16:14:52.562845Z",
     "iopub.status.busy": "2023-12-04T16:14:52.562628Z",
     "iopub.status.idle": "2023-12-04T16:14:52.935262Z",
     "shell.execute_reply": "2023-12-04T16:14:52.934679Z",
     "shell.execute_reply.started": "2023-12-04T16:14:52.562793Z"
    }
   },
   "outputs": [
    {
     "name": "stdout",
     "output_type": "stream",
     "text": [
      "_________________________________________________________________\n",
      "Layer (type)                 Output Shape              Param #   \n",
      "=================================================================\n",
      "embedding_1 (Embedding)      (None, 28, 128)           256000    \n",
      "_________________________________________________________________\n",
      "spatial_dropout1d_1 (Spatial (None, 28, 128)           0         \n",
      "_________________________________________________________________\n",
      "lstm_1 (LSTM)                (None, 196)               254800    \n",
      "_________________________________________________________________\n",
      "dense_1 (Dense)              (None, 2)                 394       \n",
      "=================================================================\n",
      "Total params: 511,194\n",
      "Trainable params: 511,194\n",
      "Non-trainable params: 0\n",
      "_________________________________________________________________\n",
      "None\n"
     ]
    }
   ],
   "source": [
    "embed_dim = 128\n",
    "lstm_out = 196\n",
    "\n",
    "model = Sequential()\n",
    "model.add(Embedding(max_fatures, embed_dim,input_length = X.shape[1]))\n",
    "model.add(SpatialDropout1D(0.4))\n",
    "model.add(LSTM(lstm_out, dropout=0.2, recurrent_dropout=0.2))\n",
    "model.add(Dense(2,activation='softmax'))\n",
    "model.compile(loss = 'categorical_crossentropy', optimizer='adam',metrics = ['accuracy'])\n",
    "print(model.summary())"
   ]
  },
  {
   "cell_type": "code",
   "execution_count": 7,
   "metadata": {
    "_cell_guid": "b35748b8-2353-3db2-e571-5fd22bb93eb0",
    "_uuid": "a380bbfae2d098d407b138fc44622c9913a31c07",
    "execution": {
     "iopub.execute_input": "2023-12-04T16:14:52.936360Z",
     "iopub.status.busy": "2023-12-04T16:14:52.936142Z",
     "iopub.status.idle": "2023-12-04T16:14:52.944485Z",
     "shell.execute_reply": "2023-12-04T16:14:52.943818Z",
     "shell.execute_reply.started": "2023-12-04T16:14:52.936307Z"
    }
   },
   "outputs": [
    {
     "name": "stdout",
     "output_type": "stream",
     "text": [
      "(7188, 28) (7188, 2)\n",
      "(3541, 28) (3541, 2)\n"
     ]
    }
   ],
   "source": [
    "Y = pd.get_dummies(data['sentiment']).values\n",
    "X_train, X_test, Y_train, Y_test = train_test_split(X,Y, test_size = 0.33, random_state = 42)\n",
    "print(X_train.shape,Y_train.shape)\n",
    "print(X_test.shape,Y_test.shape)"
   ]
  },
  {
   "cell_type": "code",
   "execution_count": 8,
   "metadata": {
    "_cell_guid": "d5e499ac-2eba-6ff7-8d9a-ff65eb04099b",
    "_uuid": "d0b239912cf67294a9f5af6883bb159c44318fc7",
    "execution": {
     "iopub.execute_input": "2023-12-04T16:14:52.945536Z",
     "iopub.status.busy": "2023-12-04T16:14:52.945331Z",
     "iopub.status.idle": "2023-12-04T16:22:24.751261Z",
     "shell.execute_reply": "2023-12-04T16:22:24.750780Z",
     "shell.execute_reply.started": "2023-12-04T16:14:52.945492Z"
    }
   },
   "outputs": [
    {
     "name": "stdout",
     "output_type": "stream",
     "text": [
      "Epoch 1/40\n",
      " - 11s - loss: 0.4496 - acc: 0.8157\n",
      "Epoch 2/40\n",
      " - 10s - loss: 0.3255 - acc: 0.8648\n",
      "Epoch 3/40\n",
      " - 10s - loss: 0.2836 - acc: 0.8841\n",
      "Epoch 4/40\n",
      " - 11s - loss: 0.2546 - acc: 0.8944\n",
      "Epoch 5/40\n",
      " - 10s - loss: 0.2255 - acc: 0.9093\n",
      "Epoch 6/40\n",
      " - 10s - loss: 0.2040 - acc: 0.9183\n",
      "Epoch 7/40\n",
      " - 10s - loss: 0.1912 - acc: 0.9238\n",
      "Epoch 8/40\n",
      " - 11s - loss: 0.1656 - acc: 0.9320\n",
      "Epoch 9/40\n",
      " - 11s - loss: 0.1581 - acc: 0.9336\n",
      "Epoch 10/40\n",
      " - 11s - loss: 0.1461 - acc: 0.9434\n",
      "Epoch 11/40\n",
      " - 11s - loss: 0.1340 - acc: 0.9455\n",
      "Epoch 12/40\n",
      " - 11s - loss: 0.1294 - acc: 0.9469\n",
      "Epoch 13/40\n",
      " - 10s - loss: 0.1212 - acc: 0.9487\n",
      "Epoch 14/40\n",
      " - 11s - loss: 0.1160 - acc: 0.9516\n",
      "Epoch 15/40\n",
      " - 10s - loss: 0.1061 - acc: 0.9555\n",
      "Epoch 16/40\n",
      " - 11s - loss: 0.1027 - acc: 0.9592\n",
      "Epoch 17/40\n",
      " - 11s - loss: 0.0968 - acc: 0.9631\n",
      "Epoch 18/40\n",
      " - 11s - loss: 0.0923 - acc: 0.9606\n",
      "Epoch 19/40\n",
      " - 10s - loss: 0.0971 - acc: 0.9610\n",
      "Epoch 20/40\n",
      " - 11s - loss: 0.0897 - acc: 0.9619\n",
      "Epoch 21/40\n",
      " - 11s - loss: 0.0890 - acc: 0.9630\n",
      "Epoch 22/40\n",
      " - 11s - loss: 0.0846 - acc: 0.9659\n",
      "Epoch 23/40\n",
      " - 11s - loss: 0.0845 - acc: 0.9656\n",
      "Epoch 24/40\n",
      " - 11s - loss: 0.0805 - acc: 0.9683\n",
      "Epoch 25/40\n",
      " - 10s - loss: 0.0851 - acc: 0.9661\n",
      "Epoch 26/40\n",
      " - 11s - loss: 0.0797 - acc: 0.9683\n",
      "Epoch 27/40\n",
      " - 10s - loss: 0.0775 - acc: 0.9684\n",
      "Epoch 28/40\n",
      " - 10s - loss: 0.0730 - acc: 0.9698\n",
      "Epoch 29/40\n",
      " - 10s - loss: 0.0761 - acc: 0.9693\n",
      "Epoch 30/40\n",
      " - 10s - loss: 0.0760 - acc: 0.9695\n",
      "Epoch 31/40\n",
      " - 11s - loss: 0.0704 - acc: 0.9706\n",
      "Epoch 32/40\n",
      " - 11s - loss: 0.0723 - acc: 0.9691\n",
      "Epoch 33/40\n",
      " - 10s - loss: 0.0710 - acc: 0.9687\n",
      "Epoch 34/40\n",
      " - 10s - loss: 0.0703 - acc: 0.9702\n",
      "Epoch 35/40\n",
      " - 11s - loss: 0.0654 - acc: 0.9715\n",
      "Epoch 36/40\n",
      " - 11s - loss: 0.0712 - acc: 0.9695\n",
      "Epoch 37/40\n",
      " - 11s - loss: 0.0738 - acc: 0.9697\n",
      "Epoch 38/40\n",
      " - 11s - loss: 0.0661 - acc: 0.9705\n",
      "Epoch 39/40\n",
      " - 10s - loss: 0.0648 - acc: 0.9726\n",
      "Epoch 40/40\n",
      " - 11s - loss: 0.0664 - acc: 0.9719\n"
     ]
    },
    {
     "data": {
      "text/plain": [
       "<keras.callbacks.History at 0x7a62f76637f0>"
      ]
     },
     "execution_count": 8,
     "metadata": {},
     "output_type": "execute_result"
    }
   ],
   "source": [
    "batch_size = 32\n",
    "model.fit(X_train, Y_train, epochs = 40, batch_size=batch_size, verbose = 2)"
   ]
  },
  {
   "cell_type": "code",
   "execution_count": 9,
   "metadata": {
    "_cell_guid": "a970f412-722f-6d6d-72c8-325d0901ccef",
    "_uuid": "7872f6ea819a5d4d08394ba6db8436f9cb2cfe1c",
    "execution": {
     "iopub.execute_input": "2023-12-04T16:22:24.752146Z",
     "iopub.status.busy": "2023-12-04T16:22:24.751889Z",
     "iopub.status.idle": "2023-12-04T16:22:25.565177Z",
     "shell.execute_reply": "2023-12-04T16:22:25.564105Z",
     "shell.execute_reply.started": "2023-12-04T16:22:24.752091Z"
    }
   },
   "outputs": [
    {
     "name": "stdout",
     "output_type": "stream",
     "text": [
      "score: 1.09\n",
      "acc: 0.82\n"
     ]
    }
   ],
   "source": [
    "validation_size = 1500\n",
    "\n",
    "X_validate = X_test[-validation_size:]\n",
    "Y_validate = Y_test[-validation_size:]\n",
    "X_test = X_test[:-validation_size]\n",
    "Y_test = Y_test[:-validation_size]\n",
    "score,acc = model.evaluate(X_test, Y_test, verbose = 2, batch_size = batch_size)\n",
    "print(\"score: %.2f\" % (score))\n",
    "print(\"acc: %.2f\" % (acc))"
   ]
  },
  {
   "cell_type": "code",
   "execution_count": 10,
   "metadata": {
    "_cell_guid": "1add73e9-c6fb-7e4c-8715-ea92f519d2a6",
    "_uuid": "f80e9f3cf281adb3ab0357cbf6f886eb1dce3005",
    "execution": {
     "iopub.execute_input": "2023-12-04T16:22:25.566213Z",
     "iopub.status.busy": "2023-12-04T16:22:25.566045Z",
     "iopub.status.idle": "2023-12-04T16:22:31.000673Z",
     "shell.execute_reply": "2023-12-04T16:22:31.000097Z",
     "shell.execute_reply.started": "2023-12-04T16:22:25.566186Z"
    }
   },
   "outputs": [
    {
     "name": "stdout",
     "output_type": "stream",
     "text": [
      "pos_acc 60.19417475728155 %\n",
      "neg_acc 90.59613769941225 %\n"
     ]
    }
   ],
   "source": [
    "pos_cnt, neg_cnt, pos_correct, neg_correct = 0, 0, 0, 0\n",
    "for x in range(len(X_validate)):\n",
    "    \n",
    "    result = model.predict(X_validate[x].reshape(1,X_test.shape[1]),batch_size=1,verbose = 2)[0]\n",
    "   \n",
    "    if np.argmax(result) == np.argmax(Y_validate[x]):\n",
    "        if np.argmax(Y_validate[x]) == 0:\n",
    "            neg_correct += 1\n",
    "        else:\n",
    "            pos_correct += 1\n",
    "       \n",
    "    if np.argmax(Y_validate[x]) == 0:\n",
    "        neg_cnt += 1\n",
    "    else:\n",
    "        pos_cnt += 1\n",
    "\n",
    "\n",
    "\n",
    "print(\"pos_acc\", pos_correct/pos_cnt*100, \"%\")\n",
    "print(\"neg_acc\", neg_correct/neg_cnt*100, \"%\")"
   ]
  },
  {
   "cell_type": "code",
   "execution_count": 11,
   "metadata": {
    "_cell_guid": "24c64f46-edd1-8d0b-7c7c-ef50fd26b2fd",
    "_uuid": "d9aac68e2013b3beffb6a764cc5b85be83073e66",
    "execution": {
     "iopub.execute_input": "2023-12-04T16:22:31.001964Z",
     "iopub.status.busy": "2023-12-04T16:22:31.001690Z",
     "iopub.status.idle": "2023-12-04T16:22:31.014890Z",
     "shell.execute_reply": "2023-12-04T16:22:31.014368Z",
     "shell.execute_reply.started": "2023-12-04T16:22:31.001881Z"
    }
   },
   "outputs": [
    {
     "name": "stdout",
     "output_type": "stream",
     "text": [
      "[[0 0 0 0 0 0 0 0 0 0 0 0 0 0 0 0 0 0 0 0 0 0 0 0 0 0 0 0]]\n",
      "positive\n"
     ]
    }
   ],
   "source": [
    "twt = ['']\n",
    "#vectorizing the tweet by the pre-fitted tokenizer instance\n",
    "twt = tokenizer.texts_to_sequences(twt)\n",
    "#padding the tweet to have exactly the same shape as `embedding_2` input\n",
    "twt = pad_sequences(twt, maxlen=28, dtype='int32', value=0)\n",
    "print(twt)\n",
    "sentiment = model.predict(twt,batch_size=1,verbose = 2)[0]\n",
    "if(np.argmax(sentiment) == 0):\n",
    "    print(\"negative\")\n",
    "elif (np.argmax(sentiment) == 1):\n",
    "    print(\"positive\")"
   ]
  }
 ],
 "metadata": {
  "kaggle": {
   "accelerator": "none",
   "dataSources": [
    {
     "datasetId": 16,
     "sourceId": 799881,
     "sourceType": "datasetVersion"
    },
    {
     "datasetId": 1305,
     "sourceId": 800230,
     "sourceType": "datasetVersion"
    },
    {
     "datasetId": 989445,
     "sourceId": 1808590,
     "sourceType": "datasetVersion"
    }
   ],
   "dockerImageVersionId": 3200,
   "isGpuEnabled": false,
   "isInternetEnabled": false,
   "language": "python",
   "sourceType": "notebook"
  },
  "kernelspec": {
   "display_name": "Python 3",
   "language": "python",
   "name": "python3"
  },
  "language_info": {
   "codemirror_mode": {
    "name": "ipython",
    "version": 3
   },
   "file_extension": ".py",
   "mimetype": "text/x-python",
   "name": "python",
   "nbconvert_exporter": "python",
   "pygments_lexer": "ipython3",
   "version": "3.6.5"
  }
 },
 "nbformat": 4,
 "nbformat_minor": 4
}
